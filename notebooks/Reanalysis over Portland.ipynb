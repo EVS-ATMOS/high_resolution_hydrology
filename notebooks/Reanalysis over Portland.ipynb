{
 "cells": [
  {
   "cell_type": "code",
   "execution_count": 1,
   "metadata": {
    "collapsed": true
   },
   "outputs": [],
   "source": [
    "import pyart\n",
    "import os\n",
    "import numpy as np\n",
    "from matplotlib import pyplot as plt\n",
    "from __future__ import print_function\n",
    "import datetime\n",
    "import matplotlib.dates as mdates\n",
    "from matplotlib.dates import MonthLocator, DayLocator, HourLocator, DateFormatter, drange\n",
    "from matplotlib.colors import LogNorm\n",
    "import netCDF4\n",
    "from copy import deepcopy\n",
    "from mpl_toolkits.basemap import Basemap, pyproj\n",
    "\n",
    "import dateutil.parser\n",
    "%matplotlib inline"
   ]
  },
  {
   "cell_type": "code",
   "execution_count": 2,
   "metadata": {
    "collapsed": true
   },
   "outputs": [],
   "source": [
    "status_dir = '/Users/scollis/temp/status/'\n",
    "all_files = os.listdir(status_dir)\n",
    "all_files.sort()\n",
    "max_rf =[]\n",
    "mean_rf = []\n",
    "good_files = []\n",
    "datetimes = []\n",
    "for filen in all_files:\n",
    "    fh = open(status_dir+filen)\n",
    "    line = fh.readline()[23::]\n",
    "    fh.close()\n",
    "    try:\n",
    "        p1 = float(line.split(' ')[0])\n",
    "        p2 = float(line.split(' ')[1])\n",
    "        max_rf.append(p1)\n",
    "        mean_rf.append(p2)\n",
    "        good_files.append(filen)\n",
    "        datetimes.append(datetime.datetime.strptime(filen[4:-11], '%Y%m%d_%H%M%S'))\n",
    "    except:\n",
    "        pass\n",
    "    \n",
    "mean_rf = np.array(mean_rf)\n",
    "max_rf = np.array(max_rf)\n",
    "datetimes = np.array(datetimes)"
   ]
  },
  {
   "cell_type": "code",
   "execution_count": 3,
   "metadata": {
    "collapsed": false
   },
   "outputs": [],
   "source": [
    "closest_ts = deepcopy(datetimes)\n",
    "for i in range(len(closest_ts)):\n",
    "    if closest_ts[i].hour in np.arange(12) + 6:\n",
    "        closest_ts[i] = datetime.datetime(closest_ts[i].year, closest_ts[i].month,\n",
    "                                          closest_ts[i].day, 12)\n",
    "    else:\n",
    "        closest_ts[i] = datetime.datetime(closest_ts[i].year, closest_ts[i].month,\n",
    "                                          closest_ts[i].day, 0)"
   ]
  },
  {
   "cell_type": "code",
   "execution_count": 4,
   "metadata": {
    "collapsed": true
   },
   "outputs": [],
   "source": [
    "pattern = 'http://nomads.ncdc.noaa.gov/thredds/dodsC/narr-a/%Y%m/%Y%m%d/narr-a_221_%Y%m%d_%H00_000.grb'\n",
    "thredds_addy = [obj.strftime(pattern) for obj in closest_ts]"
   ]
  },
  {
   "cell_type": "code",
   "execution_count": 5,
   "metadata": {
    "collapsed": false
   },
   "outputs": [],
   "source": [
    "dataset_test = netCDF4.Dataset(thredds_addy[10])"
   ]
  },
  {
   "cell_type": "code",
   "execution_count": 6,
   "metadata": {
    "collapsed": false
   },
   "outputs": [],
   "source": [
    "xg, yg = np.meshgrid(dataset_test.variables['x'][:]*1000.0, dataset_test.variables['y'][:]*1000.0)\n",
    "pnyc = pyproj.Proj(\n",
    "     proj='lcc',\n",
    "     datum='NAD83',\n",
    "     lat_0=50.0,\n",
    "     lat_1=50.0,\n",
    "     lat_2=50.0,\n",
    "     lon_0=-107.0)\n",
    "\n",
    "lons, lats = pnyc(xg ,\n",
    "                  yg , inverse=True)\n",
    "lons[np.where(lons >= 0)] = lons[np.where(lons >= 0)] -360.\n",
    "pm_lat = 43.6667\n",
    "pm_lon = -70.2667\n",
    "cf = abs(lons - pm_lon) + abs(lats - pm_lat)\n",
    "loc = np.where(cf == cf.min())\n"
   ]
  },
  {
   "cell_type": "code",
   "execution_count": 7,
   "metadata": {
    "collapsed": false
   },
   "outputs": [],
   "source": [
    "height_resolved = []\n",
    "for key in dataset_test.variables.keys():\n",
    "    if 29 in dataset_test.variables[key].shape and len(dataset_test.variables[key].shape) == 4:\n",
    "        height_resolved.append(key)\n",
    "#height_resolved = ['Temperature', 'Temperature_height_above_ground']\n",
    "#(u'time', u'height_above_ground2', u'y', u'x')\n",
    "sfc_only = [ 'Convective_available_potential_energy_surface']\n"
   ]
  },
  {
   "cell_type": "code",
   "execution_count": 8,
   "metadata": {
    "collapsed": false
   },
   "outputs": [],
   "source": [
    "hrs = dataset_test.variables[height_resolved[0]].shape\n",
    "sfcs = dataset_test.variables[sfc_only[0]].shape\n",
    "dataset_test.close()\n",
    "ta_array = np.array(thredds_addy)\n",
    "uta = np.unique(ta_array)"
   ]
  },
  {
   "cell_type": "code",
   "execution_count": 9,
   "metadata": {
    "collapsed": false
   },
   "outputs": [
    {
     "ename": "RuntimeError",
     "evalue": "NetCDF: file not found",
     "output_type": "error",
     "traceback": [
      "\u001b[0;31m---------------------------------------------------------------------------\u001b[0m",
      "\u001b[0;31mRuntimeError\u001b[0m                              Traceback (most recent call last)",
      "\u001b[0;32m<ipython-input-9-a75bf40dab0e>\u001b[0m in \u001b[0;36m<module>\u001b[0;34m()\u001b[0m\n\u001b[1;32m      6\u001b[0m \u001b[0;34m\u001b[0m\u001b[0m\n\u001b[1;32m      7\u001b[0m \u001b[0;32mfor\u001b[0m \u001b[0mi\u001b[0m \u001b[0;32min\u001b[0m \u001b[0mrange\u001b[0m\u001b[0;34m(\u001b[0m\u001b[0mlen\u001b[0m\u001b[0;34m(\u001b[0m\u001b[0muta\u001b[0m\u001b[0;34m)\u001b[0m\u001b[0;34m)\u001b[0m\u001b[0;34m:\u001b[0m\u001b[0;34m\u001b[0m\u001b[0m\n\u001b[0;32m----> 8\u001b[0;31m     \u001b[0mdataset\u001b[0m \u001b[0;34m=\u001b[0m \u001b[0mnetCDF4\u001b[0m\u001b[0;34m.\u001b[0m\u001b[0mDataset\u001b[0m\u001b[0;34m(\u001b[0m\u001b[0muta\u001b[0m\u001b[0;34m[\u001b[0m\u001b[0mi\u001b[0m\u001b[0;34m]\u001b[0m\u001b[0;34m)\u001b[0m\u001b[0;34m\u001b[0m\u001b[0m\n\u001b[0m\u001b[1;32m      9\u001b[0m     \u001b[0;32mfor\u001b[0m \u001b[0mkey\u001b[0m \u001b[0;32min\u001b[0m \u001b[0mheight_resolved\u001b[0m\u001b[0;34m:\u001b[0m\u001b[0;34m\u001b[0m\u001b[0m\n\u001b[1;32m     10\u001b[0m         \u001b[0;31m#print(key, dataset.variables[key].shape)\u001b[0m\u001b[0;34m\u001b[0m\u001b[0;34m\u001b[0m\u001b[0m\n",
      "\u001b[0;32mnetCDF4.pyx\u001b[0m in \u001b[0;36mnetCDF4.Dataset.__init__ (netCDF4.c:21986)\u001b[0;34m()\u001b[0m\n",
      "\u001b[0;31mRuntimeError\u001b[0m: NetCDF: file not found"
     ]
    }
   ],
   "source": [
    "data_dict = {}\n",
    "for key in height_resolved:\n",
    "    data_dict.update({key : np.zeros([29, len(uta)])})\n",
    "for key in sfc_only:\n",
    "    data_dict.update({key : np.zeros([len(uta)])})\n",
    "\n",
    "for i in range(len(uta)):\n",
    "    dataset = netCDF4.Dataset(uta[i])\n",
    "    for key in height_resolved:\n",
    "        #print(key, dataset.variables[key].shape)\n",
    "        data_dict[key][:,i] = dataset.variables[key][0,:,loc[0][0], loc[1][0]]\n",
    "    for key in sfc_only:\n",
    "        #print(key, dataset.variables[key].shape)\n",
    "        data_dict[key][i] = dataset.variables[key][0,loc[0][0], loc[1][0]]\n",
    "    \n",
    "    dataset.close()\n",
    "    "
   ]
  },
  {
   "cell_type": "code",
   "execution_count": 17,
   "metadata": {
    "collapsed": false
   },
   "outputs": [
    {
     "data": {
      "text/plain": [
       "<matplotlib.collections.PolyCollection at 0x11aa70810>"
      ]
     },
     "execution_count": 17,
     "metadata": {},
     "output_type": "execute_result"
    },
    {
     "data": {
      "image/png": "[encoded data removed]",
      "text/plain": [
       "<matplotlib.figure.Figure at 0x10c24f390>"
      ]
     },
     "metadata": {},
     "output_type": "display_data"
    }
   ],
   "source": [
    "plt.pcolor(data_dict['Ice_mixing_ratio'])"
   ]
  },
  {
   "cell_type": "code",
   "execution_count": 18,
   "metadata": {
    "collapsed": false
   },
   "outputs": [
    {
     "data": {
      "text/plain": [
       "[<matplotlib.lines.Line2D at 0x11caaef10>]"
      ]
     },
     "execution_count": 18,
     "metadata": {},
     "output_type": "execute_result"
    },
    {
     "data": {
      "image/png": "[encoded data removed]",
      "text/plain": [
       "<matplotlib.figure.Figure at 0x10c24f450>"
      ]
     },
     "metadata": {},
     "output_type": "display_data"
    }
   ],
   "source": [
    "plt.plot(data_dict['Convective_available_potential_energy_surface'])"
   ]
  },
  {
   "cell_type": "code",
   "execution_count": 64,
   "metadata": {
    "collapsed": false
   },
   "outputs": [
    {
     "name": "stdout",
     "output_type": "stream",
     "text": [
      "733\n"
     ]
    }
   ],
   "source": [
    "print(len(uta))"
   ]
  },
  {
   "cell_type": "code",
   "execution_count": 12,
   "metadata": {
    "collapsed": false
   },
   "outputs": [
    {
     "name": "stdout",
     "output_type": "stream",
     "text": [
      "[u'Specific_humidity', u'Temperature', u'Ice_mixing_ratio', u'Cloud_water', u'Geopotential_height', 'Convective_available_potential_energy_surface', u'u_wind', u'v_wind', u'Pressure_vertical_velocity']\n"
     ]
    }
   ],
   "source": [
    "print(data_dict.keys())"
   ]
  },
  {
   "cell_type": "code",
   "execution_count": null,
   "metadata": {
    "collapsed": true
   },
   "outputs": [],
   "source": [
    "print(1)"
   ]
  },
  {
   "cell_type": "code",
   "execution_count": null,
   "metadata": {
    "collapsed": true
   },
   "outputs": [],
   "source": []
  }
 ],
 "metadata": {
  "kernelspec": {
   "display_name": "Python 2",
   "language": "python",
   "name": "python2"
  },
  "language_info": {
   "codemirror_mode": {
    "name": "ipython",
    "version": 2
   },
   "file_extension": ".py",
   "mimetype": "text/x-python",
   "name": "python",
   "nbconvert_exporter": "python",
   "pygments_lexer": "ipython2",
   "version": "2.7.10"
  }
 },
 "nbformat": 4,
 "nbformat_minor": 0
}
