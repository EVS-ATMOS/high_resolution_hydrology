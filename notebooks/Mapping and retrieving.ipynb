{
 "metadata": {
  "name": "",
  "signature": "sha256:073426f69029ac3e2013dd4a7c7eb25a5b19516f4ee4b7939c33113c25dbea0a"
 },
 "nbformat": 3,
 "nbformat_minor": 0,
 "worksheets": [
  {
   "cells": [
    {
     "cell_type": "code",
     "collapsed": false,
     "input": [
      "import matplotlib\n",
      "matplotlib.use('agg')\n",
      "import pyart\n",
      "from matplotlib import pyplot as plt\n",
      "\n",
      "from netCDF4 import num2date, date2num\n",
      "import numpy as np\n",
      "from time import time\n",
      "import os\n",
      "#here is the key import! \n",
      "from IPython.parallel import Client"
     ],
     "language": "python",
     "metadata": {},
     "outputs": [],
     "prompt_number": 1
    },
    {
     "cell_type": "code",
     "collapsed": false,
     "input": [
      "def do_grid_map_gates_to_grid(radar_fname):\n",
      "    import pyart\n",
      "    from matplotlib import pyplot as plt\n",
      "    from netCDF4 import num2date, date2num\n",
      "    import numpy as np\n",
      "    from time import time\n",
      "    import os\n",
      "    try:\n",
      "        radar = pyart.io.read(radar_fname)\n",
      "        rain_z = radar.fields['reflectivity']['data'].copy()\n",
      "        z_lin = 10.0**(radar.fields['reflectivity']['data']/10.)\n",
      "        rain_z = (z_lin/300.0)**(1./1.4)  #Z=300 R1.4\n",
      "        radar.add_field_like('reflectivity', 'rain_z',  rain_z, replace_existing = True)\n",
      "        radar.fields['rain_z']['units'] = 'mm/h'\n",
      "        radar.fields['rain_z']['standard_name'] = 'rainfall_rate'\n",
      "        radar.fields['rain_z']['long_name'] = 'rainfall_rate_from_z'\n",
      "        radar.fields['rain_z']['valid_min'] = 0\n",
      "        radar.fields['rain_z']['valid_max'] = 500\n",
      "        grid = pyart.map.grid_from_radars(\n",
      "             (radar,), grid_shape=(1, 501, 501),\n",
      "            grid_limits=((0, 0),(-50000, 50000), (-50000, 50000)),\n",
      "            fields=radar.fields.keys(), gridding_algo=\"map_gates_to_grid\",\n",
      "            weighting_function='BARNES')\n",
      "        dts = num2date(grid.axes['time']['data'], grid.axes['time']['units'])\n",
      "        sstr = dts[0].strftime('%Y%m%d_%H%M%S')\n",
      "        pyart.io.write_grid('/media/scollis/data/chi/' + 'grid_250_'+sstr+'.nc', grid)\n",
      "        myd = pyart.graph.RadarMapDisplay(radar)\n",
      "        fig = plt.figure(figsize = [18,10])\n",
      "        myd.plot_ppi_map( 'rain_z', vmin = 0, vmax = 100, \n",
      "                         resolution = 'h', max_lat = 41.8, \n",
      "                         min_lat = 41.25, min_lon = -88.3, max_lon = -87.5)\n",
      "        m = myd.basemap\n",
      "        m.drawparallels(np.linspace(41, 42, 9),labels=[1,0,0,0])\n",
      "        m.drawmeridians(np.linspace(-88.4, -87, 8),labels=[0,0,0,1])\n",
      "        m.drawrivers()\n",
      "        m.drawcounties()\n",
      "        m.drawstates()\n",
      "        m.drawmapscale(-88., 41.55, -88., 41.55, 10, barstyle='fancy', fontcolor='k', fillcolor1='b', fillcolor2='k')\n",
      "        myd.plot_point( -87.9706,41.6815, label_text = 'Argonne Lab', label_offset = (0.0,0.0) )\n",
      "        plt.savefig('/media/scollis/data/chi/'+ 'radar_'+sstr+'.png')\n",
      "        plt.figure(figsize = [15,15])\n",
      "        max_lat = 43\n",
      "        min_lat = 41.5\n",
      "        min_lon = -88.3\n",
      "        max_lon = -87.5\n",
      "        display = pyart.graph.GridMapDisplay(grid)\n",
      "        display.plot_basemap(lat_lines=np.arange(min_lat,max_lat,.1),\n",
      "                             lon_lines=np.arange(min_lon, max_lon, .1),\n",
      "                             resolution='h')\n",
      "        display.plot_grid('rain_z', vmin=0, vmax=100)\n",
      "        xcf,ycf = display.basemap(-87.9706,41.6815)\n",
      "        display.basemap.plot(xcf,ycf,'ro')\n",
      "        plt.text(xcf+2000.,ycf+2000., 'Argonne Lab')\n",
      "        display.basemap.drawcounties()\n",
      "        display.basemap.drawrivers()\n",
      "\n",
      "        display.basemap.drawmapscale(-88., 41.55, -88., 41.55, 10, barstyle='fancy', fontcolor='k', fillcolor1='b', fillcolor2='k')\n",
      "        display.plot_colorbar()\n",
      "        plt.savefig('/media/scollis/data/chi/'+ 'mapped_250_'+sstr+'.png')\n",
      "    except:\n",
      "        pass\n",
      "    return 0"
     ],
     "language": "python",
     "metadata": {},
     "outputs": [],
     "prompt_number": 2
    },
    {
     "cell_type": "code",
     "collapsed": false,
     "input": [
      "idir = '/media/scollis/data/chi/'\n",
      "filelist = os.listdir('/media/scollis/data/chi/')\n",
      "good_files = []\n",
      "for fl in filelist:\n",
      "    if 'KLOT' in fl:\n",
      "        good_files.append(idir + fl)\n",
      "good_files.sort()"
     ],
     "language": "python",
     "metadata": {},
     "outputs": [],
     "prompt_number": 3
    },
    {
     "cell_type": "code",
     "collapsed": false,
     "input": [
      "print(good_files[10])"
     ],
     "language": "python",
     "metadata": {},
     "outputs": [
      {
       "output_type": "stream",
       "stream": "stdout",
       "text": [
        "/media/scollis/data/chi/KLOT20130418_004639_V06\n"
       ]
      }
     ],
     "prompt_number": 4
    },
    {
     "cell_type": "code",
     "collapsed": false,
     "input": [
      "state = do_grid_map_gates_to_grid(good_files[10])"
     ],
     "language": "python",
     "metadata": {},
     "outputs": [],
     "prompt_number": 13
    },
    {
     "cell_type": "code",
     "collapsed": false,
     "input": [
      "My_Cluster = Client()\n",
      "My_View = My_Cluster[:]\n",
      "print My_View\n",
      "print len(My_View)"
     ],
     "language": "python",
     "metadata": {},
     "outputs": [
      {
       "output_type": "stream",
       "stream": "stdout",
       "text": [
        "<DirectView [0, 1, 2, 3,...]>\n",
        "15\n"
       ]
      }
     ],
     "prompt_number": 7
    },
    {
     "cell_type": "code",
     "collapsed": false,
     "input": [
      "#Turn off blocking so all engines can work async\n",
      "My_View.block = False\n",
      "\n",
      "#on all engines do an import of Py-ART\n",
      "My_View.execute('import matplotlib')\n",
      "My_View.execute('matplotlib.use(\"agg\")')\n",
      "\n",
      "\n",
      "\n",
      "\n",
      "#Map the code and input to all workers\n",
      "result = My_View.map_async(do_grid_map_gates_to_grid, good_files)\n",
      "\n",
      "#Reduce the result to get a list of output\n",
      "qvps = result.get()\n"
     ],
     "language": "python",
     "metadata": {},
     "outputs": []
    },
    {
     "cell_type": "code",
     "collapsed": false,
     "input": [
      "pass"
     ],
     "language": "python",
     "metadata": {},
     "outputs": []
    },
    {
     "cell_type": "code",
     "collapsed": false,
     "input": [],
     "language": "python",
     "metadata": {},
     "outputs": []
    }
   ],
   "metadata": {}
  }
 ]
}