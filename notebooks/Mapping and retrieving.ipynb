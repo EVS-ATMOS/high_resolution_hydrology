{
 "cells": [
  {
   "cell_type": "code",
   "execution_count": 1,
   "metadata": {
    "collapsed": false
   },
   "outputs": [],
   "source": [
    "import matplotlib\n",
    "matplotlib.use('agg')\n",
    "import pyart\n",
    "from matplotlib import pyplot as plt\n",
    "\n",
    "from netCDF4 import num2date, date2num\n",
    "import numpy as np\n",
    "from time import time\n",
    "import os\n",
    "#here is the key import! \n",
    "from IPython.parallel import Client"
   ]
  },
  {
   "cell_type": "code",
   "execution_count": 22,
   "metadata": {
    "collapsed": false
   },
   "outputs": [],
   "source": [
    "def do_grid_map_gates_to_grid(radar_fname):\n",
    "    import pyart\n",
    "    from matplotlib import pyplot as plt\n",
    "    from netCDF4 import num2date, date2num\n",
    "    import numpy as np\n",
    "    from time import time\n",
    "    import os\n",
    "    if True:\n",
    "        radar = pyart.io.read(radar_fname)\n",
    "        \n",
    "        rain_z = radar.fields['reflectivity']['data'].copy()\n",
    "        z_lin = 10.0**(radar.fields['reflectivity']['data']/10.)\n",
    "        rain_z = (z_lin/300.0)**(1./1.4)  #Z=300 R1.4\n",
    "        radar.add_field_like('reflectivity', 'rain_z',  rain_z, replace_existing = True)\n",
    "        radar.fields['rain_z']['units'] = 'mm/h'\n",
    "        radar.fields['rain_z']['standard_name'] = 'rainfall_rate'\n",
    "        radar.fields['rain_z']['long_name'] = 'rainfall_rate_from_z'\n",
    "        radar.fields['rain_z']['valid_min'] = 0\n",
    "        radar.fields['rain_z']['valid_max'] = 500\n",
    "        grid = pyart.map.grid_from_radars(\n",
    "             (radar,), grid_shape=(35, 1001, 1001),\n",
    "            grid_limits=((0, 17000),(-100000, 100000), (-100000, 100000)),\n",
    "            fields=radar.fields.keys(), gridding_algo=\"map_gates_to_grid\",\n",
    "            weighting_function='BARNES')\n",
    "        dts = num2date(grid.axes['time']['data'], grid.axes['time']['units'])\n",
    "        sstr = dts[0].strftime('%Y%m%d_%H%M%S')\n",
    "        pyart.io.write_grid('/data/chicago_stat/' + 'grid_250_'+sstr+'.nc', grid)\n",
    "        max_lat = 42.\n",
    "        min_lat = 40. \n",
    "        min_lon = -89 \n",
    "        max_lon = -87\n",
    "        myd = pyart.graph.RadarMapDisplay(radar)\n",
    "        fig = plt.figure(figsize = [18,10])\n",
    "        myd.plot_ppi_map( 'rain_z', vmin = 0, vmax = 100, \n",
    "                         resolution = 'h', max_lat = max_lat, \n",
    "                         min_lat = min_lat, min_lon = min_lon, max_lon = max_lon)\n",
    "        m = myd.basemap\n",
    "        m.drawparallels(np.arange(min_lat,max_lat, 1),labels=[1,0,0,0])\n",
    "        m.drawmeridians(np.arange(min_lon,max_lon, 1),labels=[0,0,0,1])\n",
    "        m.drawrivers()\n",
    "        m.drawcounties()\n",
    "        m.drawstates()\n",
    "        m.drawmapscale(-88., 41.55, -88., 41.55, 10, barstyle='fancy', fontcolor='k', fillcolor1='b', fillcolor2='k')\n",
    "        myd.plot_point( -87.9706,41.6815, label_text = 'Argonne Lab', label_offset = (0.0,0.0) )\n",
    "        plt.savefig('/data/chicago_stat/'+ 'radar_'+sstr+'.png')\n",
    "        plt.figure(figsize = [15,15])\n",
    "\n",
    "        display = pyart.graph.GridMapDisplay(grid)\n",
    "        display.plot_basemap(lat_lines=np.arange(min_lat,max_lat,1),\n",
    "                             lon_lines=np.arange(min_lon, max_lon, 1),\n",
    "                             resolution='h')\n",
    "        display.plot_grid('rain_z', vmin=0, vmax=100)\n",
    "        xcf,ycf = display.basemap(-87.9706,41.6815)\n",
    "        display.basemap.plot(xcf,ycf,'ro')\n",
    "        plt.text(xcf+2000.,ycf+2000., 'Argonne Lab')\n",
    "        display.basemap.drawcounties()\n",
    "        display.basemap.drawrivers()\n",
    "\n",
    "        display.basemap.drawmapscale(-88., 41.55, -88., 41.55, 10, barstyle='fancy', fontcolor='k', fillcolor1='b', fillcolor2='k')\n",
    "        display.plot_colorbar()\n",
    "        plt.savefig('/data/chicago_stat/'+ 'mapped_250_'+sstr+'.png')\n",
    "        display = pyart.graph.GridMapDisplay(grid, debug=True)\n",
    "\n",
    "        fig = plt.figure(figsize=[15, 8])\n",
    "\n",
    "        # panel sizes\n",
    "        map_panel_axes = [0.05, 0.05, .4, .80]\n",
    "        x_cut_panel_axes = [0.55, 0.10, .4, .30]\n",
    "        y_cut_panel_axes = [0.55, 0.50, .4, .30]\n",
    "        colorbar_panel_axes = [0.05, 0.90, .4, .03]\n",
    "\n",
    "        # parameters\n",
    "        level = 2\n",
    "        vmin = 0.10\n",
    "        vmax = 180\n",
    "        lat = 41.6815\n",
    "        lon = -87.9706\n",
    "\n",
    "        # panel 1, basemap, radar reflectivity and NARR overlay\n",
    "        ax1 = fig.add_axes(map_panel_axes)\n",
    "        display.plot_basemap(lat_lines=np.arange(min_lat,max_lat,1),\n",
    "                             lon_lines=np.arange(min_lon, max_lon, 1),\n",
    "                             resolution='h')\n",
    "        display.plot_grid('reflectivity', level=level, vmin=-8, vmax=64)\n",
    "        display.plot_crosshairs(lon=lon, lat=lat)\n",
    "        cbax = fig.add_axes(colorbar_panel_axes)\n",
    "        display.plot_colorbar(cax=cbax)\n",
    "\n",
    "        # panel 2, longitude slice.\n",
    "        ax2 = fig.add_axes(x_cut_panel_axes)\n",
    "        display.plot_longitude_slice('reflectivity', lon=lon, lat=lat, vmin=-8, vmax=64)\n",
    "        ax2.set_xlabel('Distance from Argonne(km)')\n",
    "\n",
    "        # panel 3, latitude slice\n",
    "        ax3 = fig.add_axes(y_cut_panel_axes)\n",
    "        display.plot_latitude_slice('reflectivity', lon=lon, lat=lat, vmin=-8, vmax=64)\n",
    "\n",
    "        # add a title\n",
    "        slc_height = grid.axes['z_disp']['data'][level]\n",
    "        dts = num2date(grid.axes['time']['data'], grid.axes['time']['units'])\n",
    "        datestr = dts[0].strftime('%H:%M Z on %Y-%m-%d')\n",
    "        title = 'Sliced at ' + str(slc_height) + ' meters at ' + datestr\n",
    "        fig.text(0.5, 0.9, title)\n",
    "        plt.savefig('/data/chicago_stat/'+ 'mapped_3d_250_'+sstr+'.png')\n",
    "        plt.close(fig)\n",
    "\n",
    "    return 0"
   ]
  },
  {
   "cell_type": "code",
   "execution_count": 23,
   "metadata": {
    "collapsed": false
   },
   "outputs": [
    {
     "name": "stdout",
     "output_type": "stream",
     "text": [
      "Maximum latitude:  42.5084447087\n",
      "Maximum longitude:  -86.8633212602\n",
      "Minimum latitude:  40.6937384946\n",
      "Minimum longitute:  -89.3055630172\n",
      "x_cut:  9436.79472952 y_cut:  8526.21483723\n",
      "x_index 547\n",
      "y_index 543\n",
      "x_cut:  9436.79472952 y_cut:  8526.21483723\n",
      "x_index 547\n",
      "y_index 543\n"
     ]
    }
   ],
   "source": [
    "state = do_grid_map_gates_to_grid('/data/KLOT20150610_124714_V06')"
   ]
  },
  {
   "cell_type": "code",
   "execution_count": 3,
   "metadata": {
    "collapsed": false
   },
   "outputs": [
    {
     "ename": "OSError",
     "evalue": "[Errno 2] No such file or directory: '/media/scollis/data/chi/'",
     "output_type": "error",
     "traceback": [
      "\u001b[0;31m---------------------------------------------------------------------------\u001b[0m",
      "\u001b[0;31mOSError\u001b[0m                                   Traceback (most recent call last)",
      "\u001b[0;32m<ipython-input-3-bcb2fa16e2b1>\u001b[0m in \u001b[0;36m<module>\u001b[0;34m()\u001b[0m\n\u001b[1;32m      1\u001b[0m \u001b[0mmd\u001b[0m \u001b[0;34m=\u001b[0m \u001b[0;34m'/lcrc/group/earthscience/radar/nexrad/chicago_floods'\u001b[0m\u001b[0;34m\u001b[0m\u001b[0m\n\u001b[1;32m      2\u001b[0m \u001b[0midir\u001b[0m \u001b[0;34m=\u001b[0m \u001b[0;34m'/media/scollis/data/chi/'\u001b[0m\u001b[0;34m\u001b[0m\u001b[0m\n\u001b[0;32m----> 3\u001b[0;31m \u001b[0mfilelist\u001b[0m \u001b[0;34m=\u001b[0m \u001b[0mos\u001b[0m\u001b[0;34m.\u001b[0m\u001b[0mlistdir\u001b[0m\u001b[0;34m(\u001b[0m\u001b[0;34m'/media/scollis/data/chi/'\u001b[0m\u001b[0;34m)\u001b[0m\u001b[0;34m\u001b[0m\u001b[0m\n\u001b[0m\u001b[1;32m      4\u001b[0m \u001b[0mgood_files\u001b[0m \u001b[0;34m=\u001b[0m \u001b[0;34m[\u001b[0m\u001b[0;34m]\u001b[0m\u001b[0;34m\u001b[0m\u001b[0m\n\u001b[1;32m      5\u001b[0m \u001b[0;32mfor\u001b[0m \u001b[0mfl\u001b[0m \u001b[0;32min\u001b[0m \u001b[0mfilelist\u001b[0m\u001b[0;34m:\u001b[0m\u001b[0;34m\u001b[0m\u001b[0m\n",
      "\u001b[0;31mOSError\u001b[0m: [Errno 2] No such file or directory: '/media/scollis/data/chi/'"
     ]
    }
   ],
   "source": [
    "md = '/lcrc/group/earthscience/radar/nexrad/chicago_floods'\n",
    "idir = '/media/scollis/data/chi/'\n",
    "filelist = os.listdir('/media/scollis/data/chi/')\n",
    "good_files = []\n",
    "for fl in filelist:\n",
    "    if 'KLOT' in fl:\n",
    "        good_files.append(idir + fl)\n",
    "good_files.sort()"
   ]
  },
  {
   "cell_type": "code",
   "execution_count": 4,
   "metadata": {
    "collapsed": false
   },
   "outputs": [
    {
     "name": "stdout",
     "output_type": "stream",
     "text": [
      "/media/scollis/data/chi/KLOT20130418_004639_V06\n"
     ]
    }
   ],
   "source": [
    "print(good_files[10])"
   ]
  },
  {
   "cell_type": "code",
   "execution_count": 7,
   "metadata": {
    "collapsed": false
   },
   "outputs": [
    {
     "name": "stdout",
     "output_type": "stream",
     "text": [
      "<DirectView [0, 1, 2, 3,...]>\n",
      "15\n"
     ]
    }
   ],
   "source": [
    "My_Cluster = Client()\n",
    "My_View = My_Cluster[:]\n",
    "print My_View\n",
    "print len(My_View)"
   ]
  },
  {
   "cell_type": "code",
   "execution_count": null,
   "metadata": {
    "collapsed": false
   },
   "outputs": [],
   "source": [
    "#Turn off blocking so all engines can work async\n",
    "My_View.block = False\n",
    "\n",
    "#on all engines do an import of Py-ART\n",
    "My_View.execute('import matplotlib')\n",
    "My_View.execute('matplotlib.use(\"agg\")')\n",
    "\n",
    "\n",
    "\n",
    "\n",
    "#Map the code and input to all workers\n",
    "result = My_View.map_async(do_grid_map_gates_to_grid, good_files)\n",
    "\n",
    "#Reduce the result to get a list of output\n",
    "qvps = result.get()\n"
   ]
  },
  {
   "cell_type": "code",
   "execution_count": null,
   "metadata": {
    "collapsed": false
   },
   "outputs": [],
   "source": [
    "pass"
   ]
  },
  {
   "cell_type": "code",
   "execution_count": null,
   "metadata": {
    "collapsed": false
   },
   "outputs": [],
   "source": [
    "def do_grid_map_gates_to_grid(radar_fname):\n",
    "    import pyart\n",
    "    from matplotlib import pyplot as plt\n",
    "    from netCDF4 import num2date, date2num\n",
    "    import numpy as np\n",
    "    from time import time\n",
    "    import os\n",
    "    md = '/lcrc/group/earthscience/radar/nexrad/chicago_floods/'\n",
    "    try:\n",
    "        radar = pyart.io.read(radar_fname)\n",
    "        rain_z = radar.fields['reflectivity']['data'].copy()\n",
    "        z_lin = 10.0**(radar.fields['reflectivity']['data']/10.)\n",
    "        rain_z = (z_lin/300.0)**(1./1.4)  #Z=300 R1.4\n",
    "        radar.add_field_like('reflectivity', 'rain_z',  rain_z, replace_existing = True)\n",
    "        radar.fields['rain_z']['units'] = 'mm/h'\n",
    "        radar.fields['rain_z']['standard_name'] = 'rainfall_rate'\n",
    "        radar.fields['rain_z']['long_name'] = 'rainfall_rate_from_z'\n",
    "        radar.fields['rain_z']['valid_min'] = 0\n",
    "        radar.fields['rain_z']['valid_max'] = 500\n",
    "        grid = pyart.map.grid_from_radars(\n",
    "             (radar,), grid_shape=(1, 501, 501),\n",
    "            grid_limits=((0, 0),(-50000, 50000), (-50000, 50000)),\n",
    "            fields=radar.fields.keys(), gridding_algo=\"map_gates_to_grid\",\n",
    "            weighting_function='BARNES')\n",
    "        dts = num2date(grid.axes['time']['data'], grid.axes['time']['units'])\n",
    "        sstr = dts[0].strftime('%Y%m%d_%H%M%S')\n",
    "        pyart.io.write_grid(md + 'grid_250_'+sstr+'.nc', grid)\n",
    "        myd = pyart.graph.RadarMapDisplay(radar)\n",
    "        fig = plt.figure(figsize = [18,10])\n",
    "        myd.plot_ppi_map( 'rain_z', vmin = 0, vmax = 100, \n",
    "                         resolution = 'h', max_lat = 41.8, \n",
    "                         min_lat = 41.25, min_lon = -88.3, max_lon = -87.5)\n",
    "        m = myd.basemap\n",
    "        m.drawparallels(np.linspace(41, 42, 9),labels=[1,0,0,0])\n",
    "        m.drawmeridians(np.linspace(-88.4, -87, 8),labels=[0,0,0,1])\n",
    "        m.drawrivers()\n",
    "        m.drawcounties()\n",
    "        m.drawstates()\n",
    "        m.drawmapscale(-88., 41.55, -88., 41.55, 10, barstyle='fancy', fontcolor='k', fillcolor1='b', fillcolor2='k')\n",
    "        myd.plot_point( -87.9706,41.6815, label_text = 'Argonne Lab', label_offset = (0.0,0.0) )\n",
    "        plt.savefig(md+ 'radar_'+sstr+'.png')\n",
    "        plt.figure(figsize = [15,15])\n",
    "        max_lat = 43\n",
    "        min_lat = 41.5\n",
    "        min_lon = -88.3\n",
    "        max_lon = -87.5\n",
    "        display = pyart.graph.GridMapDisplay(grid)\n",
    "        display.plot_basemap(lat_lines=np.arange(min_lat,max_lat,.1),\n",
    "                             lon_lines=np.arange(min_lon, max_lon, .1),\n",
    "                             resolution='h')\n",
    "        display.plot_grid('rain_z', vmin=0, vmax=100)\n",
    "        xcf,ycf = display.basemap(-87.9706,41.6815)\n",
    "        display.basemap.plot(xcf,ycf,'ro')\n",
    "        plt.text(xcf+2000.,ycf+2000., 'Argonne Lab')\n",
    "        display.basemap.drawcounties()\n",
    "        display.basemap.drawrivers()\n",
    "\n",
    "        display.basemap.drawmapscale(-88., 41.55, -88., 41.55, 10, barstyle='fancy', fontcolor='k', fillcolor1='b', fillcolor2='k')\n",
    "        display.plot_colorbar()\n",
    "        plt.savefig(md+ 'mapped_250_'+sstr+'.png')\n",
    "    except:\n",
    "        pass\n",
    "    return 0"
   ]
  },
  {
   "cell_type": "code",
   "execution_count": null,
   "metadata": {
    "collapsed": true
   },
   "outputs": [],
   "source": [
    "md = '/lcrc/group/earthscience/radar/nexrad/chicago_floods/'\n",
    "idir = md\n",
    "filelist = os.listdir(md)\n",
    "good_files = []\n",
    "for fl in filelist:\n",
    "    if 'KLOT' in fl:\n",
    "        good_files.append(idir + fl)\n",
    "good_files.sort()"
   ]
  },
  {
   "cell_type": "code",
   "execution_count": 24,
   "metadata": {
    "collapsed": true
   },
   "outputs": [],
   "source": [
    "radar = pyart.io.read('/data/KLOT20150610_124714_V06')"
   ]
  },
  {
   "cell_type": "code",
   "execution_count": null,
   "metadata": {
    "collapsed": true
   },
   "outputs": [],
   "source": []
  }
 ],
 "metadata": {
  "kernelspec": {
   "display_name": "Python 2",
   "language": "python",
   "name": "python2"
  },
  "language_info": {
   "codemirror_mode": {
    "name": "ipython",
    "version": 2
   },
   "file_extension": ".py",
   "mimetype": "text/x-python",
   "name": "python",
   "nbconvert_exporter": "python",
   "pygments_lexer": "ipython2",
   "version": "2.7.9"
  }
 },
 "nbformat": 4,
 "nbformat_minor": 0
}
